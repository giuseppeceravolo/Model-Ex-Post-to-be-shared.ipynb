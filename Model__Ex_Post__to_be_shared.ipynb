{
  "nbformat": 4,
  "nbformat_minor": 0,
  "metadata": {
    "colab": {
      "name": "Model \"Ex Post\" - to be shared.ipynb",
      "provenance": [],
      "collapsed_sections": []
    },
    "kernelspec": {
      "name": "python3",
      "display_name": "Python 3"
    }
  },
  "cells": [
    {
      "cell_type": "markdown",
      "metadata": {
        "id": "NEQBJFoXzlFD",
        "colab_type": "text"
      },
      "source": [
        "This Python Notebook gathers the steps taken to come up with a supervised classification model able to forecast the result of real estate auctions in Italy given both exogenous features (e.g. the minimum bid price) and, more importantly, endogenous features (e.g. the number of online visits that a listing gets within 7 days of pubblication on real estate portals)."
      ]
    },
    {
      "cell_type": "markdown",
      "metadata": {
        "id": "VhVj5UMA8yjC",
        "colab_type": "text"
      },
      "source": [
        "#Mount Google Drive"
      ]
    },
    {
      "cell_type": "code",
      "metadata": {
        "id": "pd_24MpyZYqa",
        "colab_type": "code",
        "outputId": "1df79843-f76a-4165-bfd1-e3d5c2f878c5",
        "colab": {
          "base_uri": "https://localhost:8080/",
          "height": 52
        }
      },
      "source": [
        "from google.colab import drive # import drive from google colab\n",
        "ROOT = \"/content/drive\"     # default location for the drive\n",
        "drive.mount(ROOT)           # we mount the google drive at /content/drive"
      ],
      "execution_count": 0,
      "outputs": [
        {
          "output_type": "stream",
          "text": [
            "/content/drive\n",
            "Drive already mounted at /content/drive; to attempt to forcibly remount, call drive.mount(\"/content/drive\", force_remount=True).\n"
          ],
          "name": "stdout"
        }
      ]
    },
    {
      "cell_type": "markdown",
      "metadata": {
        "id": "aZCELks4eqhI",
        "colab_type": "text"
      },
      "source": [
        "#Import Statements"
      ]
    },
    {
      "cell_type": "code",
      "metadata": {
        "id": "Y3jo9dSAZraM",
        "colab_type": "code",
        "colab": {}
      },
      "source": [
        "import glob\n",
        "import os\n",
        "import pandas as pd\n",
        "import seaborn as sns\n",
        "import numpy as np\n",
        "import matplotlib.pyplot as plt\n",
        "from sklearn.linear_model import LogisticRegression\n",
        "from sklearn.preprocessing import MinMaxScaler, StandardScaler\n",
        "from sklearn.metrics import accuracy_score, confusion_matrix, plot_roc_curve, \\\n",
        "                            classification_report, roc_curve\n",
        "from sklearn.model_selection import GridSearchCV, train_test_split\n",
        "from sklearn.ensemble import RandomForestClassifier, StackingClassifier\n",
        "from sklearn.svm import SVC\n",
        "from sklearn.neighbors import KNeighborsClassifier\n",
        "from sklearn.naive_bayes import GaussianNB\n",
        "import warnings\n",
        "warnings.filterwarnings('ignore')\n",
        "\n",
        "plt.style.use('seaborn')\n",
        "pd.options.mode.chained_assignment = None\n",
        "np.random.seed(1234)"
      ],
      "execution_count": 0,
      "outputs": []
    },
    {
      "cell_type": "code",
      "metadata": {
        "id": "D62e7kBgsSDf",
        "colab_type": "code",
        "colab": {}
      },
      "source": [
        "path = r'/content/drive/My Drive/Colab Notebooks/Data/Foglio Unico/'\n",
        "filenames = glob.glob(os.path.join(path, \"FOGLIO UNICO - Vivacizzazione *.xlsx\"))"
      ],
      "execution_count": 0,
      "outputs": []
    },
    {
      "cell_type": "code",
      "metadata": {
        "id": "W-ub7BZIcvac",
        "colab_type": "code",
        "outputId": "e16dc2f0-d569-4226-8c4c-5ff3d6b63da1",
        "colab": {
          "base_uri": "https://localhost:8080/",
          "height": 277
        }
      },
      "source": [
        "filenames"
      ],
      "execution_count": 0,
      "outputs": [
        {
          "output_type": "execute_result",
          "data": {
            "text/plain": [
              "['/content/drive/My Drive/Colab Notebooks/Data/Foglio Unico/FOGLIO UNICO - Vivacizzazione - 20190201.xlsx',\n",
              " '/content/drive/My Drive/Colab Notebooks/Data/Foglio Unico/FOGLIO UNICO - Vivacizzazione - 20200131.xlsx',\n",
              " '/content/drive/My Drive/Colab Notebooks/Data/Foglio Unico/FOGLIO UNICO - Vivacizzazione - 20190215.xlsx',\n",
              " '/content/drive/My Drive/Colab Notebooks/Data/Foglio Unico/FOGLIO UNICO - Vivacizzazione - 20190301.xlsx',\n",
              " '/content/drive/My Drive/Colab Notebooks/Data/Foglio Unico/FOGLIO UNICO - Vivacizzazione - 20190401.xlsx',\n",
              " '/content/drive/My Drive/Colab Notebooks/Data/Foglio Unico/FOGLIO UNICO - Vivacizzazione - 20190502.xlsx',\n",
              " '/content/drive/My Drive/Colab Notebooks/Data/Foglio Unico/FOGLIO UNICO - Vivacizzazione - 20190601.xlsx',\n",
              " '/content/drive/My Drive/Colab Notebooks/Data/Foglio Unico/FOGLIO UNICO - Vivacizzazione - 20190701.xlsx',\n",
              " '/content/drive/My Drive/Colab Notebooks/Data/Foglio Unico/FOGLIO UNICO - Vivacizzazione - 20190702.xlsx',\n",
              " '/content/drive/My Drive/Colab Notebooks/Data/Foglio Unico/FOGLIO UNICO - Vivacizzazione - 20190802.xlsx',\n",
              " '/content/drive/My Drive/Colab Notebooks/Data/Foglio Unico/FOGLIO UNICO - Vivacizzazione - 20190903.xlsx',\n",
              " '/content/drive/My Drive/Colab Notebooks/Data/Foglio Unico/FOGLIO UNICO - Vivacizzazione - 20190930.xlsx',\n",
              " '/content/drive/My Drive/Colab Notebooks/Data/Foglio Unico/FOGLIO UNICO - Vivacizzazione - 20191031.xlsx',\n",
              " '/content/drive/My Drive/Colab Notebooks/Data/Foglio Unico/FOGLIO UNICO - Vivacizzazione - 20191130.xlsx',\n",
              " '/content/drive/My Drive/Colab Notebooks/Data/Foglio Unico/FOGLIO UNICO - Vivacizzazione - 20191231.xlsx']"
            ]
          },
          "metadata": {
            "tags": []
          },
          "execution_count": 4
        }
      ]
    },
    {
      "cell_type": "code",
      "metadata": {
        "id": "d8AyHexzs5JG",
        "colab_type": "code",
        "colab": {}
      },
      "source": [
        "df_raw = pd.concat((pd.read_excel(f) for f in filenames), sort = True)"
      ],
      "execution_count": 0,
      "outputs": []
    },
    {
      "cell_type": "code",
      "metadata": {
        "id": "0Xa0CHzRfqye",
        "colab_type": "code",
        "outputId": "c2a94602-75ce-45e6-93fa-a92ae2dc3fdf",
        "colab": {
          "base_uri": "https://localhost:8080/",
          "height": 35
        }
      },
      "source": [
        "df_raw.shape"
      ],
      "execution_count": 0,
      "outputs": [
        {
          "output_type": "execute_result",
          "data": {
            "text/plain": [
              "(39509, 103)"
            ]
          },
          "metadata": {
            "tags": []
          },
          "execution_count": 6
        }
      ]
    },
    {
      "cell_type": "markdown",
      "metadata": {
        "id": "7X02JHUTe5sj",
        "colab_type": "text"
      },
      "source": [
        "# Feature Preparation"
      ]
    },
    {
      "cell_type": "markdown",
      "metadata": {
        "id": "tPO8rw9DzD5E",
        "colab_type": "text"
      },
      "source": [
        "## An initial glance at data"
      ]
    },
    {
      "cell_type": "code",
      "metadata": {
        "id": "a6ANRcF7m76S",
        "colab_type": "code",
        "colab": {}
      },
      "source": [
        "df = df_raw.copy()"
      ],
      "execution_count": 0,
      "outputs": []
    },
    {
      "cell_type": "code",
      "metadata": {
        "id": "1WML7fU19k87",
        "colab_type": "code",
        "outputId": "3c3c981e-5bf6-4148-8b08-681451876fc5",
        "colab": {
          "base_uri": "https://localhost:8080/",
          "height": 598
        }
      },
      "source": [
        "df.head()"
      ],
      "execution_count": 0,
      "outputs": [
        {
          "output_type": "execute_result",
          "data": {
            "text/html": [
              "<div>\n",
              "<style scoped>\n",
              "    .dataframe tbody tr th:only-of-type {\n",
              "        vertical-align: middle;\n",
              "    }\n",
              "\n",
              "    .dataframe tbody tr th {\n",
              "        vertical-align: top;\n",
              "    }\n",
              "\n",
              "    .dataframe thead th {\n",
              "        text-align: right;\n",
              "    }\n",
              "</style>\n",
              "<table border=\"1\" class=\"dataframe\">\n",
              "  <thead>\n",
              "    <tr style=\"text-align: right;\">\n",
              "      <th></th>\n",
              "      <th>Aggiudicata dal Cliente?</th>\n",
              "      <th>Anno asta</th>\n",
              "      <th>Asta Passata?</th>\n",
              "      <th>CHECK DATA</th>\n",
              "      <th>CHECK ESPERIMENTO</th>\n",
              "      <th>CHECK LINK</th>\n",
              "      <th>CHECK LOTTO</th>\n",
              "      <th>CHECK PREZZO BASE</th>\n",
              "      <th>CHECK RGE</th>\n",
              "      <th>CHECK TRIBUNALE</th>\n",
              "      <th>CTU</th>\n",
              "      <th>Check</th>\n",
              "      <th>Check Esiti Positivi vs Interessati</th>\n",
              "      <th>Clienti a Visita</th>\n",
              "      <th>Comune</th>\n",
              "      <th>Conformità</th>\n",
              "      <th>Custode</th>\n",
              "      <th>DATA PUBBLICAZIONE</th>\n",
              "      <th>Da caricare su Getrix?</th>\n",
              "      <th>Da charicare?</th>\n",
              "      <th>Data asta</th>\n",
              "      <th>Data pubblicazione su Getrix</th>\n",
              "      <th>Data sopralluogo</th>\n",
              "      <th>Delegato</th>\n",
              "      <th>Esito</th>\n",
              "      <th>Esito Negativo</th>\n",
              "      <th>Esito Positivo</th>\n",
              "      <th>Focus Venditore</th>\n",
              "      <th>GESTORE</th>\n",
              "      <th>Garantito</th>\n",
              "      <th>Getrix (ST)</th>\n",
              "      <th>Id Immobile</th>\n",
              "      <th>Immobili all'Asta?</th>\n",
              "      <th>In provincia?</th>\n",
              "      <th>Indirizzo</th>\n",
              "      <th>Interessati</th>\n",
              "      <th>Link</th>\n",
              "      <th>Link Immobiliare.it</th>\n",
              "      <th>Link Pubblicità</th>\n",
              "      <th>Link Tribunale</th>\n",
              "      <th>...</th>\n",
              "      <th>Numero telefonate outbound</th>\n",
              "      <th>Numero telefonate/mail ricevute</th>\n",
              "      <th>Numero totale partecipanti</th>\n",
              "      <th>Occupato/Libero/Con contratto</th>\n",
              "      <th>Offerta minima</th>\n",
              "      <th>P(Agg)</th>\n",
              "      <th>P(Aggiudicazione)</th>\n",
              "      <th>Premium</th>\n",
              "      <th>Prezzo base</th>\n",
              "      <th>Prezzo di aggiudicazione</th>\n",
              "      <th>Provincia</th>\n",
              "      <th>Qualità Annuncio (%)</th>\n",
              "      <th>RGE</th>\n",
              "      <th>RIF.</th>\n",
              "      <th>Regione</th>\n",
              "      <th>Risparmio</th>\n",
              "      <th>SERVICER</th>\n",
              "      <th>ST</th>\n",
              "      <th>STATO AGGIORNAMENTO</th>\n",
              "      <th>Salvati dopo 7 gg</th>\n",
              "      <th>Sconto</th>\n",
              "      <th>Settimana asta</th>\n",
              "      <th>Sistemia Secret?</th>\n",
              "      <th>Soldi Guadagnati</th>\n",
              "      <th>Soldi Persi Partner €</th>\n",
              "      <th>Soldi persi LF</th>\n",
              "      <th>Star</th>\n",
              "      <th>Stato</th>\n",
              "      <th>TOTALE VIEWS</th>\n",
              "      <th>TOTALE VISITE</th>\n",
              "      <th>Tipologia</th>\n",
              "      <th>Tipologia Clienti Offerenti</th>\n",
              "      <th>Top</th>\n",
              "      <th>Tribunale</th>\n",
              "      <th>VENETO - Da caricare?</th>\n",
              "      <th>Valutazione</th>\n",
              "      <th>Venditore</th>\n",
              "      <th>Vetrina</th>\n",
              "      <th>Visibilità\\nPartner</th>\n",
              "      <th>Visite dopo 7 gg</th>\n",
              "    </tr>\n",
              "  </thead>\n",
              "  <tbody>\n",
              "    <tr>\n",
              "      <th>0</th>\n",
              "      <td>NaN</td>\n",
              "      <td>2018.0</td>\n",
              "      <td>1.0</td>\n",
              "      <td>NaN</td>\n",
              "      <td>NaN</td>\n",
              "      <td>NaN</td>\n",
              "      <td>NaN</td>\n",
              "      <td>NaN</td>\n",
              "      <td>NaN</td>\n",
              "      <td>NaN</td>\n",
              "      <td>NaN</td>\n",
              "      <td>1.0</td>\n",
              "      <td>NaN</td>\n",
              "      <td>NaN</td>\n",
              "      <td>NaN</td>\n",
              "      <td>NaN</td>\n",
              "      <td>NaN</td>\n",
              "      <td>NaT</td>\n",
              "      <td>NaN</td>\n",
              "      <td>NaN</td>\n",
              "      <td>2018-01-09</td>\n",
              "      <td>NaT</td>\n",
              "      <td>NaN</td>\n",
              "      <td>NaN</td>\n",
              "      <td>NaN</td>\n",
              "      <td>NaN</td>\n",
              "      <td>NaN</td>\n",
              "      <td>NaN</td>\n",
              "      <td>SISTEMIA</td>\n",
              "      <td>NaN</td>\n",
              "      <td>NaN</td>\n",
              "      <td>1</td>\n",
              "      <td>NaN</td>\n",
              "      <td>Si</td>\n",
              "      <td>Via Alessandria, FERENTILLO (TR)</td>\n",
              "      <td>NaN</td>\n",
              "      <td>https://pvp.giustizia.it/pvp/it/dettaglio_annu...</td>\n",
              "      <td>NaN</td>\n",
              "      <td>NaN</td>\n",
              "      <td>NaN</td>\n",
              "      <td>...</td>\n",
              "      <td>NaN</td>\n",
              "      <td>NaN</td>\n",
              "      <td>NaN</td>\n",
              "      <td>NaN</td>\n",
              "      <td>62437</td>\n",
              "      <td>NaN</td>\n",
              "      <td>NaN</td>\n",
              "      <td>NaN</td>\n",
              "      <td>NaN</td>\n",
              "      <td>NaN</td>\n",
              "      <td>TR</td>\n",
              "      <td>NaN</td>\n",
              "      <td>4/2013</td>\n",
              "      <td>2334.0</td>\n",
              "      <td>UMBRIA</td>\n",
              "      <td>NaN</td>\n",
              "      <td>NaN</td>\n",
              "      <td>NaN</td>\n",
              "      <td>NaN</td>\n",
              "      <td>NaN</td>\n",
              "      <td>NaN</td>\n",
              "      <td>NaN</td>\n",
              "      <td>NaN</td>\n",
              "      <td>NaN</td>\n",
              "      <td>NaN</td>\n",
              "      <td>NaN</td>\n",
              "      <td>NaN</td>\n",
              "      <td>Deserta</td>\n",
              "      <td>NaN</td>\n",
              "      <td>NaN</td>\n",
              "      <td>NaN</td>\n",
              "      <td>NaN</td>\n",
              "      <td>NaN</td>\n",
              "      <td>TERNI</td>\n",
              "      <td>NaN</td>\n",
              "      <td>NaN</td>\n",
              "      <td>NaN</td>\n",
              "      <td>NaN</td>\n",
              "      <td>0.0</td>\n",
              "      <td>NaN</td>\n",
              "    </tr>\n",
              "    <tr>\n",
              "      <th>1</th>\n",
              "      <td>NaN</td>\n",
              "      <td>2018.0</td>\n",
              "      <td>1.0</td>\n",
              "      <td>NaN</td>\n",
              "      <td>NaN</td>\n",
              "      <td>NaN</td>\n",
              "      <td>NaN</td>\n",
              "      <td>NaN</td>\n",
              "      <td>NaN</td>\n",
              "      <td>NaN</td>\n",
              "      <td>NaN</td>\n",
              "      <td>0.0</td>\n",
              "      <td>NaN</td>\n",
              "      <td>NaN</td>\n",
              "      <td>NaN</td>\n",
              "      <td>NaN</td>\n",
              "      <td>NaN</td>\n",
              "      <td>NaT</td>\n",
              "      <td>NaN</td>\n",
              "      <td>NaN</td>\n",
              "      <td>2018-01-10</td>\n",
              "      <td>NaT</td>\n",
              "      <td>NaN</td>\n",
              "      <td>NaN</td>\n",
              "      <td>NaN</td>\n",
              "      <td>NaN</td>\n",
              "      <td>NaN</td>\n",
              "      <td>NaN</td>\n",
              "      <td>SISTEMIA</td>\n",
              "      <td>NaN</td>\n",
              "      <td>NaN</td>\n",
              "      <td>2</td>\n",
              "      <td>NaN</td>\n",
              "      <td>No</td>\n",
              "      <td>VIA GAETANO MAZZONI 38, ROMA (RM)</td>\n",
              "      <td>NaN</td>\n",
              "      <td>https://www.astegiudiziarie.it/vendita-asta-ap...</td>\n",
              "      <td>NaN</td>\n",
              "      <td>NaN</td>\n",
              "      <td>NaN</td>\n",
              "      <td>...</td>\n",
              "      <td>NaN</td>\n",
              "      <td>NaN</td>\n",
              "      <td>NaN</td>\n",
              "      <td>NaN</td>\n",
              "      <td>28725</td>\n",
              "      <td>NaN</td>\n",
              "      <td>NaN</td>\n",
              "      <td>NaN</td>\n",
              "      <td>NaN</td>\n",
              "      <td>NaN</td>\n",
              "      <td>RM</td>\n",
              "      <td>NaN</td>\n",
              "      <td>1426/2014</td>\n",
              "      <td>NaN</td>\n",
              "      <td>LAZIO</td>\n",
              "      <td>NaN</td>\n",
              "      <td>NaN</td>\n",
              "      <td>NaN</td>\n",
              "      <td>NaN</td>\n",
              "      <td>NaN</td>\n",
              "      <td>NaN</td>\n",
              "      <td>NaN</td>\n",
              "      <td>NaN</td>\n",
              "      <td>NaN</td>\n",
              "      <td>NaN</td>\n",
              "      <td>NaN</td>\n",
              "      <td>NaN</td>\n",
              "      <td>Deserta</td>\n",
              "      <td>NaN</td>\n",
              "      <td>NaN</td>\n",
              "      <td>NaN</td>\n",
              "      <td>NaN</td>\n",
              "      <td>NaN</td>\n",
              "      <td>NaN</td>\n",
              "      <td>NaN</td>\n",
              "      <td>NaN</td>\n",
              "      <td>NaN</td>\n",
              "      <td>NaN</td>\n",
              "      <td>0.0</td>\n",
              "      <td>NaN</td>\n",
              "    </tr>\n",
              "    <tr>\n",
              "      <th>2</th>\n",
              "      <td>NaN</td>\n",
              "      <td>2018.0</td>\n",
              "      <td>1.0</td>\n",
              "      <td>NaN</td>\n",
              "      <td>NaN</td>\n",
              "      <td>NaN</td>\n",
              "      <td>NaN</td>\n",
              "      <td>NaN</td>\n",
              "      <td>NaN</td>\n",
              "      <td>NaN</td>\n",
              "      <td>NaN</td>\n",
              "      <td>0.0</td>\n",
              "      <td>NaN</td>\n",
              "      <td>NaN</td>\n",
              "      <td>NaN</td>\n",
              "      <td>NaN</td>\n",
              "      <td>NaN</td>\n",
              "      <td>NaT</td>\n",
              "      <td>NaN</td>\n",
              "      <td>NaN</td>\n",
              "      <td>2018-01-10</td>\n",
              "      <td>NaT</td>\n",
              "      <td>NaN</td>\n",
              "      <td>NaN</td>\n",
              "      <td>NaN</td>\n",
              "      <td>NaN</td>\n",
              "      <td>NaN</td>\n",
              "      <td>NaN</td>\n",
              "      <td>SISTEMIA</td>\n",
              "      <td>NaN</td>\n",
              "      <td>NaN</td>\n",
              "      <td>NaN</td>\n",
              "      <td>NaN</td>\n",
              "      <td>No</td>\n",
              "      <td>VIA GIOVENALE ANCINA, TORINO (TO)</td>\n",
              "      <td>NaN</td>\n",
              "      <td>http://www.tribunale.torino.giustizia.it/it/As...</td>\n",
              "      <td>NaN</td>\n",
              "      <td>NaN</td>\n",
              "      <td>NaN</td>\n",
              "      <td>...</td>\n",
              "      <td>NaN</td>\n",
              "      <td>NaN</td>\n",
              "      <td>NaN</td>\n",
              "      <td>NaN</td>\n",
              "      <td>42750</td>\n",
              "      <td>NaN</td>\n",
              "      <td>NaN</td>\n",
              "      <td>NaN</td>\n",
              "      <td>NaN</td>\n",
              "      <td>NaN</td>\n",
              "      <td>TO</td>\n",
              "      <td>NaN</td>\n",
              "      <td>477/2016</td>\n",
              "      <td>NaN</td>\n",
              "      <td>PIEMONTE</td>\n",
              "      <td>NaN</td>\n",
              "      <td>NaN</td>\n",
              "      <td>NaN</td>\n",
              "      <td>NaN</td>\n",
              "      <td>NaN</td>\n",
              "      <td>NaN</td>\n",
              "      <td>NaN</td>\n",
              "      <td>NaN</td>\n",
              "      <td>NaN</td>\n",
              "      <td>NaN</td>\n",
              "      <td>NaN</td>\n",
              "      <td>NaN</td>\n",
              "      <td>Deserta</td>\n",
              "      <td>NaN</td>\n",
              "      <td>NaN</td>\n",
              "      <td>NaN</td>\n",
              "      <td>NaN</td>\n",
              "      <td>NaN</td>\n",
              "      <td>NaN</td>\n",
              "      <td>NaN</td>\n",
              "      <td>NaN</td>\n",
              "      <td>NaN</td>\n",
              "      <td>NaN</td>\n",
              "      <td>0.0</td>\n",
              "      <td>NaN</td>\n",
              "    </tr>\n",
              "    <tr>\n",
              "      <th>3</th>\n",
              "      <td>NaN</td>\n",
              "      <td>2018.0</td>\n",
              "      <td>1.0</td>\n",
              "      <td>NaN</td>\n",
              "      <td>NaN</td>\n",
              "      <td>NaN</td>\n",
              "      <td>NaN</td>\n",
              "      <td>NaN</td>\n",
              "      <td>NaN</td>\n",
              "      <td>NaN</td>\n",
              "      <td>NaN</td>\n",
              "      <td>0.0</td>\n",
              "      <td>NaN</td>\n",
              "      <td>NaN</td>\n",
              "      <td>NaN</td>\n",
              "      <td>NaN</td>\n",
              "      <td>NaN</td>\n",
              "      <td>NaT</td>\n",
              "      <td>NaN</td>\n",
              "      <td>NaN</td>\n",
              "      <td>2018-01-10</td>\n",
              "      <td>NaT</td>\n",
              "      <td>NaN</td>\n",
              "      <td>NaN</td>\n",
              "      <td>NaN</td>\n",
              "      <td>NaN</td>\n",
              "      <td>NaN</td>\n",
              "      <td>NaN</td>\n",
              "      <td>SISTEMIA</td>\n",
              "      <td>NaN</td>\n",
              "      <td>NaN</td>\n",
              "      <td>NaN</td>\n",
              "      <td>NaN</td>\n",
              "      <td>Si</td>\n",
              "      <td>VIA D'ANNUNZIO GABRIELE, GIOIA DEL COLLE (BA)</td>\n",
              "      <td>NaN</td>\n",
              "      <td>https://www.astegiudiziarie.it/vendita-asta-ap...</td>\n",
              "      <td>NaN</td>\n",
              "      <td>NaN</td>\n",
              "      <td>NaN</td>\n",
              "      <td>...</td>\n",
              "      <td>NaN</td>\n",
              "      <td>NaN</td>\n",
              "      <td>NaN</td>\n",
              "      <td>NaN</td>\n",
              "      <td>41343.8</td>\n",
              "      <td>NaN</td>\n",
              "      <td>NaN</td>\n",
              "      <td>NaN</td>\n",
              "      <td>NaN</td>\n",
              "      <td>NaN</td>\n",
              "      <td>BA</td>\n",
              "      <td>NaN</td>\n",
              "      <td>1013/2014</td>\n",
              "      <td>NaN</td>\n",
              "      <td>PUGLIA</td>\n",
              "      <td>NaN</td>\n",
              "      <td>NaN</td>\n",
              "      <td>NaN</td>\n",
              "      <td>NaN</td>\n",
              "      <td>NaN</td>\n",
              "      <td>NaN</td>\n",
              "      <td>NaN</td>\n",
              "      <td>NaN</td>\n",
              "      <td>NaN</td>\n",
              "      <td>NaN</td>\n",
              "      <td>NaN</td>\n",
              "      <td>NaN</td>\n",
              "      <td>Deserta</td>\n",
              "      <td>NaN</td>\n",
              "      <td>NaN</td>\n",
              "      <td>NaN</td>\n",
              "      <td>NaN</td>\n",
              "      <td>NaN</td>\n",
              "      <td>NaN</td>\n",
              "      <td>NaN</td>\n",
              "      <td>NaN</td>\n",
              "      <td>NaN</td>\n",
              "      <td>NaN</td>\n",
              "      <td>0.0</td>\n",
              "      <td>NaN</td>\n",
              "    </tr>\n",
              "    <tr>\n",
              "      <th>4</th>\n",
              "      <td>NaN</td>\n",
              "      <td>2018.0</td>\n",
              "      <td>1.0</td>\n",
              "      <td>NaN</td>\n",
              "      <td>NaN</td>\n",
              "      <td>NaN</td>\n",
              "      <td>NaN</td>\n",
              "      <td>NaN</td>\n",
              "      <td>NaN</td>\n",
              "      <td>NaN</td>\n",
              "      <td>NaN</td>\n",
              "      <td>0.0</td>\n",
              "      <td>NaN</td>\n",
              "      <td>NaN</td>\n",
              "      <td>NaN</td>\n",
              "      <td>NaN</td>\n",
              "      <td>NaN</td>\n",
              "      <td>NaT</td>\n",
              "      <td>NaN</td>\n",
              "      <td>NaN</td>\n",
              "      <td>2018-01-11</td>\n",
              "      <td>NaT</td>\n",
              "      <td>NaN</td>\n",
              "      <td>NaN</td>\n",
              "      <td>NaN</td>\n",
              "      <td>NaN</td>\n",
              "      <td>NaN</td>\n",
              "      <td>NaN</td>\n",
              "      <td>SISTEMIA</td>\n",
              "      <td>NaN</td>\n",
              "      <td>NaN</td>\n",
              "      <td>NaN</td>\n",
              "      <td>NaN</td>\n",
              "      <td>Si</td>\n",
              "      <td>Via XXV Aprile, RONCO SCRIVIA (GE)</td>\n",
              "      <td>NaN</td>\n",
              "      <td>https://www.astegiudiziarie.it/vendita-asta-ap...</td>\n",
              "      <td>NaN</td>\n",
              "      <td>NaN</td>\n",
              "      <td>NaN</td>\n",
              "      <td>...</td>\n",
              "      <td>NaN</td>\n",
              "      <td>NaN</td>\n",
              "      <td>NaN</td>\n",
              "      <td>NaN</td>\n",
              "      <td>60000</td>\n",
              "      <td>NaN</td>\n",
              "      <td>NaN</td>\n",
              "      <td>NaN</td>\n",
              "      <td>NaN</td>\n",
              "      <td>NaN</td>\n",
              "      <td>GE</td>\n",
              "      <td>NaN</td>\n",
              "      <td>7/2017</td>\n",
              "      <td>NaN</td>\n",
              "      <td>LIGURIA</td>\n",
              "      <td>NaN</td>\n",
              "      <td>NaN</td>\n",
              "      <td>NaN</td>\n",
              "      <td>NaN</td>\n",
              "      <td>NaN</td>\n",
              "      <td>NaN</td>\n",
              "      <td>NaN</td>\n",
              "      <td>NaN</td>\n",
              "      <td>NaN</td>\n",
              "      <td>NaN</td>\n",
              "      <td>NaN</td>\n",
              "      <td>NaN</td>\n",
              "      <td>Deserta</td>\n",
              "      <td>NaN</td>\n",
              "      <td>NaN</td>\n",
              "      <td>NaN</td>\n",
              "      <td>NaN</td>\n",
              "      <td>NaN</td>\n",
              "      <td>NaN</td>\n",
              "      <td>NaN</td>\n",
              "      <td>NaN</td>\n",
              "      <td>NaN</td>\n",
              "      <td>NaN</td>\n",
              "      <td>0.0</td>\n",
              "      <td>NaN</td>\n",
              "    </tr>\n",
              "  </tbody>\n",
              "</table>\n",
              "<p>5 rows × 103 columns</p>\n",
              "</div>"
            ],
            "text/plain": [
              "  Aggiudicata dal Cliente?  Anno asta  ...  Visibilità\\nPartner  Visite dopo 7 gg\n",
              "0                      NaN     2018.0  ...                  0.0               NaN\n",
              "1                      NaN     2018.0  ...                  0.0               NaN\n",
              "2                      NaN     2018.0  ...                  0.0               NaN\n",
              "3                      NaN     2018.0  ...                  0.0               NaN\n",
              "4                      NaN     2018.0  ...                  0.0               NaN\n",
              "\n",
              "[5 rows x 103 columns]"
            ]
          },
          "metadata": {
            "tags": []
          },
          "execution_count": 8
        }
      ]
    },
    {
      "cell_type": "code",
      "metadata": {
        "id": "AGkrBy7fgWba",
        "colab_type": "code",
        "outputId": "caa1309a-bda7-4a4e-e67a-20cbcc1ed81d",
        "colab": {
          "base_uri": "https://localhost:8080/",
          "height": 225
        }
      },
      "source": [
        "df.isna().sum()"
      ],
      "execution_count": 0,
      "outputs": [
        {
          "output_type": "execute_result",
          "data": {
            "text/plain": [
              "Aggiudicata dal Cliente?    37420\n",
              "Anno asta                    7914\n",
              "Asta Passata?                7914\n",
              "CHECK DATA                  36061\n",
              "CHECK ESPERIMENTO           37062\n",
              "                            ...  \n",
              "Valutazione                 17612\n",
              "Venditore                   38552\n",
              "Vetrina                     39077\n",
              "Visibilità\\nPartner         32100\n",
              "Visite dopo 7 gg            29404\n",
              "Length: 103, dtype: int64"
            ]
          },
          "metadata": {
            "tags": []
          },
          "execution_count": 9
        }
      ]
    },
    {
      "cell_type": "markdown",
      "metadata": {
        "id": "KlfV6Hdc0khN",
        "colab_type": "text"
      },
      "source": [
        "## Filter columns"
      ]
    },
    {
      "cell_type": "markdown",
      "metadata": {
        "id": "0L60JZodqW_b",
        "colab_type": "text"
      },
      "source": [
        "Select only columns of interest:\n",
        "*   'Id Immobile' = an id representing the real estate asset on auction\n",
        "*   'DATA PUBBLICAZIONE' = the date of our pubblication of the auction on real estate portals\n",
        "*   'Views dopo 7 gg' = the number of online views of our auction listing on real estate portals after 7 days of pubblication\n",
        "*   'Offerta minima' = the minimum bid to join the auction\n",
        "*   'Valutazione' = our homemade evaluation of the real estate asset (made with proprietary sotfware and algorithms)\n",
        "*   'NTN RES' = number of last-year residential transactions of the city where the real estate asset is located\n",
        "*   'Esito' = the auction result"
      ]
    },
    {
      "cell_type": "code",
      "metadata": {
        "id": "Y6x4mrmO-Pv0",
        "colab_type": "code",
        "colab": {}
      },
      "source": [
        "df = df[['Id Immobile', 'DATA PUBBLICAZIONE', 'Visite dopo 7 gg', 'Offerta minima', 'Valutazione', 'NTN RES', 'Esito']]"
      ],
      "execution_count": 0,
      "outputs": []
    },
    {
      "cell_type": "code",
      "metadata": {
        "id": "Hnz8k3ZE-S-S",
        "colab_type": "code",
        "outputId": "ffa01ba4-9ac7-40c8-9c95-baeda9d10d06",
        "colab": {
          "base_uri": "https://localhost:8080/",
          "height": 69
        }
      },
      "source": [
        "print(\"Percentage of null 'Id Immobili': {0:.2f}%\".format(100 * df['Id Immobile'].isnull().sum() / df['Id Immobile'].shape[0]))\n",
        "print(\"Number of auctions with no 'Visite dopo 7 giorni': {:,}\".format(df['Visite dopo 7 gg'].isnull().sum()))\n",
        "print(\"Number of auctions with no 'Esito': {:,}\".format(df['Esito'].isnull().sum()))"
      ],
      "execution_count": 0,
      "outputs": [
        {
          "output_type": "stream",
          "text": [
            "Percentage of null 'Id Immobili': 48.87%\n",
            "Number of auctions with no 'Visite dopo 7 giorni': 29,404\n",
            "Number of auctions with no 'Esito': 26,778\n"
          ],
          "name": "stdout"
        }
      ]
    },
    {
      "cell_type": "code",
      "metadata": {
        "id": "j_Mwr-1UdxLo",
        "colab_type": "code",
        "outputId": "666b3da1-58fd-47e1-ec07-2f048c861f9a",
        "colab": {
          "base_uri": "https://localhost:8080/",
          "height": 52
        }
      },
      "source": [
        "print(\"Number or rows in dataframe: {:,}\".format(df.shape[0]))\n",
        "print('Numero di colonne del dataframe: {:,}'.format(df.shape[1]))"
      ],
      "execution_count": 0,
      "outputs": [
        {
          "output_type": "stream",
          "text": [
            "Number or rows in dataframe: 39,509\n",
            "Numero di colonne del dataframe: 7\n"
          ],
          "name": "stdout"
        }
      ]
    },
    {
      "cell_type": "markdown",
      "metadata": {
        "id": "7-MdHNpAfyhO",
        "colab_type": "text"
      },
      "source": [
        "## Pre-Processing"
      ]
    },
    {
      "cell_type": "markdown",
      "metadata": {
        "id": "mUGoafVPsLCv",
        "colab_type": "text"
      },
      "source": [
        "Now let's drop:\n",
        "*   null 'Esito'\n",
        "*   null 'Views dopo 7 gg'\n",
        "*   null 'Offerta minima'\n",
        "*   null 'Valutazione'\n",
        "*   null 'NTN RES'\n",
        "*   null 'Id Immobile'\n",
        "*   duplicated combinations of 'Id Immobile' and 'Data Pubblicazione'"
      ]
    },
    {
      "cell_type": "code",
      "metadata": {
        "id": "aIPBvIbZsd53",
        "colab_type": "code",
        "colab": {}
      },
      "source": [
        "df.dropna(subset=['Esito', 'Visite dopo 7 gg', 'Offerta minima', 'Valutazione', 'NTN RES', 'Id Immobile'], how='any', inplace=True)"
      ],
      "execution_count": 0,
      "outputs": []
    },
    {
      "cell_type": "code",
      "metadata": {
        "id": "AT8dsjGe61ZM",
        "colab_type": "code",
        "colab": {}
      },
      "source": [
        "df.drop_duplicates(subset=['Id Immobile', 'DATA PUBBLICAZIONE'], keep='last', inplace=True)"
      ],
      "execution_count": 0,
      "outputs": []
    },
    {
      "cell_type": "markdown",
      "metadata": {
        "id": "vgOsJ-BDfK79",
        "colab_type": "text"
      },
      "source": [
        "Kepp only auctions with 'Esito' equal to 'Deserta' or 'Aggiudicata'"
      ]
    },
    {
      "cell_type": "code",
      "metadata": {
        "id": "aiG7OkiAu5jW",
        "colab_type": "code",
        "colab": {}
      },
      "source": [
        "df = df.loc[df['Esito'].isin(['Deserta', 'Aggiudicata'])]"
      ],
      "execution_count": 0,
      "outputs": []
    },
    {
      "cell_type": "markdown",
      "metadata": {
        "id": "HAQsLbN_fWTA",
        "colab_type": "text"
      },
      "source": [
        "Kepp only auctions with valid 'Valutazione'"
      ]
    },
    {
      "cell_type": "code",
      "metadata": {
        "id": "salQ7ETGffgl",
        "colab_type": "code",
        "colab": {}
      },
      "source": [
        "df = df.loc[df['Valutazione'] != '-']"
      ],
      "execution_count": 0,
      "outputs": []
    },
    {
      "cell_type": "markdown",
      "metadata": {
        "id": "yM2DFqnnmGuN",
        "colab_type": "text"
      },
      "source": [
        "Convert to numeric all numeric features"
      ]
    },
    {
      "cell_type": "code",
      "metadata": {
        "id": "hCet820-lyd6",
        "colab_type": "code",
        "colab": {}
      },
      "source": [
        "numeric_columns = ['Offerta minima', 'Valutazione']\n",
        "df[numeric_columns] = df[numeric_columns].apply(pd.to_numeric)"
      ],
      "execution_count": 0,
      "outputs": []
    },
    {
      "cell_type": "markdown",
      "metadata": {
        "id": "KzFluZSdfj0Z",
        "colab_type": "text"
      },
      "source": [
        "Add 'Sconto' as the discount of 'Offerta Minima' with respect to 'Valutazione'\n"
      ]
    },
    {
      "cell_type": "code",
      "metadata": {
        "id": "s_FyOegYfoIl",
        "colab_type": "code",
        "colab": {}
      },
      "source": [
        "df['Sconto'] = pd.to_numeric((df['Valutazione'] - df['Offerta minima']) / df['Valutazione'])\n",
        "df = df.loc[~np.log(df['Offerta minima'] + 1).isnull()]\n",
        "df.reset_index(inplace=True, drop=True)"
      ],
      "execution_count": 0,
      "outputs": []
    },
    {
      "cell_type": "markdown",
      "metadata": {
        "id": "rlj8ySUusoaK",
        "colab_type": "text"
      },
      "source": [
        "One-Hot Encoding of label (target) variable 'Esito'"
      ]
    },
    {
      "cell_type": "code",
      "metadata": {
        "id": "RdU8lf97snbW",
        "colab_type": "code",
        "colab": {}
      },
      "source": [
        "df['Esito'] = df['Esito'].apply(lambda x: 1 if x == 'Aggiudicata' else 0)"
      ],
      "execution_count": 0,
      "outputs": []
    },
    {
      "cell_type": "markdown",
      "metadata": {
        "id": "sQoPR743hymA",
        "colab_type": "text"
      },
      "source": [
        "## Normalization"
      ]
    },
    {
      "cell_type": "markdown",
      "metadata": {
        "id": "z7G_2Vz_qQ78",
        "colab_type": "text"
      },
      "source": [
        "Let's transform 'Offerta minima', 'Visite dopo 7 gg', and 'NTN RES' for better model performance"
      ]
    },
    {
      "cell_type": "code",
      "metadata": {
        "id": "wmBKCt_BhxVT",
        "colab_type": "code",
        "colab": {}
      },
      "source": [
        "log = True\n",
        "standard = False\n",
        "\n",
        "if log:\n",
        "  df['offerta_minima'] = np.log(df['Offerta minima'] + 1)\n",
        "  df['views'] = np.log(df['Visite dopo 7 gg'] + 1)\n",
        "  df['ntn'] = np.log(df['NTN RES'] + 1)\n",
        "\n",
        "if standard:\n",
        "  sc = StandardScaler()\n",
        "  df['sconto'] = sc.fit_transform(np.array(df['Sconto']).reshape(-1, 1))\n",
        "  df['offerta_minima'] = sc.fit_transform(np.array(df['Offerta minima']).reshape(-1, 1))\n",
        "  df['views'] = sc.fit_transform(np.array(df['Visite dopo 7 gg']).reshape(-1, 1))"
      ],
      "execution_count": 0,
      "outputs": []
    },
    {
      "cell_type": "markdown",
      "metadata": {
        "id": "bUv_YDMLfeJ4",
        "colab_type": "text"
      },
      "source": [
        "## Sanity check"
      ]
    },
    {
      "cell_type": "code",
      "metadata": {
        "id": "7Tz6pRYt7Iwi",
        "colab_type": "code",
        "outputId": "162538af-cecf-4a06-b533-5ca4917943ea",
        "colab": {
          "base_uri": "https://localhost:8080/",
          "height": 52
        }
      },
      "source": [
        "print(\"Number of rows in dataframe: {:,}\".format(df.shape[0]))\n",
        "print(\"Number of columns in dataframe: {:,}\".format(df.shape[1]))"
      ],
      "execution_count": 0,
      "outputs": [
        {
          "output_type": "stream",
          "text": [
            "Number of rows in dataframe: 1,031\n",
            "Number of columns in dataframe: 11\n"
          ],
          "name": "stdout"
        }
      ]
    },
    {
      "cell_type": "code",
      "metadata": {
        "id": "x3w0gPdUva8g",
        "colab_type": "code",
        "outputId": "6d259ca6-0003-4299-e889-888ad3dcdbdb",
        "colab": {
          "base_uri": "https://localhost:8080/",
          "height": 141
        }
      },
      "source": [
        "df.iloc[[100, 145, 257], ]"
      ],
      "execution_count": 0,
      "outputs": [
        {
          "output_type": "execute_result",
          "data": {
            "text/html": [
              "<div>\n",
              "<style scoped>\n",
              "    .dataframe tbody tr th:only-of-type {\n",
              "        vertical-align: middle;\n",
              "    }\n",
              "\n",
              "    .dataframe tbody tr th {\n",
              "        vertical-align: top;\n",
              "    }\n",
              "\n",
              "    .dataframe thead th {\n",
              "        text-align: right;\n",
              "    }\n",
              "</style>\n",
              "<table border=\"1\" class=\"dataframe\">\n",
              "  <thead>\n",
              "    <tr style=\"text-align: right;\">\n",
              "      <th></th>\n",
              "      <th>Id Immobile</th>\n",
              "      <th>DATA PUBBLICAZIONE</th>\n",
              "      <th>Visite dopo 7 gg</th>\n",
              "      <th>Offerta minima</th>\n",
              "      <th>Valutazione</th>\n",
              "      <th>NTN RES</th>\n",
              "      <th>Esito</th>\n",
              "      <th>Sconto</th>\n",
              "      <th>offerta_minima</th>\n",
              "      <th>views</th>\n",
              "      <th>ntn</th>\n",
              "    </tr>\n",
              "  </thead>\n",
              "  <tbody>\n",
              "    <tr>\n",
              "      <th>100</th>\n",
              "      <td>20897</td>\n",
              "      <td>NaT</td>\n",
              "      <td>114.0</td>\n",
              "      <td>25312.5</td>\n",
              "      <td>52113.6</td>\n",
              "      <td>144.20</td>\n",
              "      <td>1</td>\n",
              "      <td>0.514282</td>\n",
              "      <td>10.139093</td>\n",
              "      <td>4.744932</td>\n",
              "      <td>4.978112</td>\n",
              "    </tr>\n",
              "    <tr>\n",
              "      <th>145</th>\n",
              "      <td>78559</td>\n",
              "      <td>2019-02-04</td>\n",
              "      <td>251.0</td>\n",
              "      <td>50017.5</td>\n",
              "      <td>150052.5</td>\n",
              "      <td>757.47</td>\n",
              "      <td>1</td>\n",
              "      <td>0.666667</td>\n",
              "      <td>10.820148</td>\n",
              "      <td>5.529429</td>\n",
              "      <td>6.631303</td>\n",
              "    </tr>\n",
              "    <tr>\n",
              "      <th>257</th>\n",
              "      <td>101773</td>\n",
              "      <td>2019-04-24</td>\n",
              "      <td>72.0</td>\n",
              "      <td>55000.0</td>\n",
              "      <td>106145.6</td>\n",
              "      <td>25.25</td>\n",
              "      <td>0</td>\n",
              "      <td>0.481844</td>\n",
              "      <td>10.915107</td>\n",
              "      <td>4.290459</td>\n",
              "      <td>3.267666</td>\n",
              "    </tr>\n",
              "  </tbody>\n",
              "</table>\n",
              "</div>"
            ],
            "text/plain": [
              "    Id Immobile DATA PUBBLICAZIONE  ...     views       ntn\n",
              "100       20897                NaT  ...  4.744932  4.978112\n",
              "145       78559         2019-02-04  ...  5.529429  6.631303\n",
              "257      101773         2019-04-24  ...  4.290459  3.267666\n",
              "\n",
              "[3 rows x 11 columns]"
            ]
          },
          "metadata": {
            "tags": []
          },
          "execution_count": 22
        }
      ]
    },
    {
      "cell_type": "code",
      "metadata": {
        "colab_type": "code",
        "id": "qr_Y7jfIdKuH",
        "outputId": "17a7eafd-d191-42cb-e256-87a56e28559a",
        "colab": {
          "base_uri": "https://localhost:8080/",
          "height": 104
        }
      },
      "source": [
        "print(\"Number of auctions with null 'Visite dopo 7 gg': {:,}\".format(df['Visite dopo 7 gg'].isnull().sum()))\n",
        "print(\"Number of auctions with null 'Esito': {:,}\".format(df['Esito'].isnull().sum()))\n",
        "print(\"Number of auctions with null 'Id Immobile': {:,}\".format(df['Id Immobile'].isnull().sum()))\n",
        "print(\"Number of auctions with null 'Offerta minima': {:,}\".format(df['Offerta minima'].isnull().sum()))\n",
        "print(\"Number of auctions with null 'Valutazione': {:,}\".format(df['Valutazione'].isnull().sum()))"
      ],
      "execution_count": 0,
      "outputs": [
        {
          "output_type": "stream",
          "text": [
            "Number of auctions with null 'Visite dopo 7 gg': 0\n",
            "Number of auctions with null 'Esito': 0\n",
            "Number of auctions with null 'Id Immobile': 0\n",
            "Number of auctions with null 'Offerta minima': 0\n",
            "Number of auctions with null 'Valutazione': 0\n"
          ],
          "name": "stdout"
        }
      ]
    },
    {
      "cell_type": "markdown",
      "metadata": {
        "id": "zunU91q_4JE4",
        "colab_type": "text"
      },
      "source": [
        "## Check Class Balance"
      ]
    },
    {
      "cell_type": "code",
      "metadata": {
        "id": "fcpw7XTr24IW",
        "colab_type": "code",
        "colab": {}
      },
      "source": [
        "num_aggiudicate = df['Esito'].loc[df['Esito']==1].shape[0]\n",
        "num_deserte = df['Esito'].loc[df['Esito']==0].shape[0]\n",
        "num_tot = df['Esito'].shape[0]"
      ],
      "execution_count": 0,
      "outputs": []
    },
    {
      "cell_type": "code",
      "metadata": {
        "id": "LLjOH2hQ3IW9",
        "colab_type": "code",
        "outputId": "b7f67a94-ebe5-4e4d-b926-4de74d491f5d",
        "colab": {
          "base_uri": "https://localhost:8080/",
          "height": 52
        }
      },
      "source": [
        "print(\"Percentage of auctions being 'Aggiudicata': {0:.2f}%\".format(100 * num_aggiudicate / num_tot))\n",
        "print(\"Percentage of auctions being 'Deserta': {0:.2f}%\".format(100 * num_deserte / num_tot))"
      ],
      "execution_count": 0,
      "outputs": [
        {
          "output_type": "stream",
          "text": [
            "Percentage of auctions being 'Aggiudicata': 55.97%\n",
            "Percentage of auctions being 'Deserta': 44.03%\n"
          ],
          "name": "stdout"
        }
      ]
    },
    {
      "cell_type": "markdown",
      "metadata": {
        "id": "3SldpNxH4wdK",
        "colab_type": "text"
      },
      "source": [
        "Class 'Esito' is adequatly balanced (almost 50-50)"
      ]
    },
    {
      "cell_type": "markdown",
      "metadata": {
        "id": "BRhmnamT37E8",
        "colab_type": "text"
      },
      "source": [
        "#Exploratory Data Analysis"
      ]
    },
    {
      "cell_type": "markdown",
      "metadata": {
        "id": "ySSZdiBN2BBs",
        "colab_type": "text"
      },
      "source": [
        "## Boxplot of log('Visite dopo 7 gg') by 'Esito'"
      ]
    },
    {
      "cell_type": "code",
      "metadata": {
        "id": "NdNAbp6fhE6P",
        "colab_type": "code",
        "outputId": "c45135d9-a655-4bee-a61b-bf1e363fb420",
        "colab": {
          "base_uri": "https://localhost:8080/",
          "height": 369
        }
      },
      "source": [
        "fig = plt.figure(figsize = (7, 5))\n",
        "esito = [None, 0, 1]\n",
        "for i in range(1, 3):\n",
        "    ax = fig.add_subplot(2, 1, i)\n",
        "    sns.boxplot(data=df.loc[df['Esito'] == esito[i]], x='views')\n",
        "    ax.set(xlabel = '',\n",
        "       title=f'Esito {esito[i]}',\n",
        "       xlim = (0, 10)\n",
        "    )\n",
        "    ax.grid(True)\n",
        "\n",
        "plt.xlabel(\"Number of log('Visite dopo 7 gg')\")\n",
        "plt.tight_layout()\n",
        "plt.savefig(\"Boxplot of log('Visite dopo 7 gg') by 'Esito'\")"
      ],
      "execution_count": 0,
      "outputs": [
        {
          "output_type": "display_data",
          "data": {
            "image/png": "[encoded data removed]",
            "text/plain": [
              "<Figure size 504x360 with 2 Axes>"
            ]
          },
          "metadata": {
            "tags": []
          }
        }
      ]
    },
    {
      "cell_type": "markdown",
      "metadata": {
        "id": "pzwYqIuy0370",
        "colab_type": "text"
      },
      "source": [
        "## Distribution of Visite dopo 7 gg' by 'Esito'"
      ]
    },
    {
      "cell_type": "code",
      "metadata": {
        "id": "AsY31P5H0_Y4",
        "colab_type": "code",
        "outputId": "e4c8ddff-4edb-49b8-bfe8-dd486617ac22",
        "colab": {
          "base_uri": "https://localhost:8080/",
          "height": 362
        }
      },
      "source": [
        "fig, ax = plt.subplots()\n",
        "ax = sns.kdeplot(df.loc[df['Esito']==1 , 'Visite dopo 7 gg'],\n",
        "            color='tomato',\n",
        "            shade=True,\n",
        "            Label='Aggiudicata')\n",
        "\n",
        "ax = sns.kdeplot(df.loc[df['Esito']==0 , 'Visite dopo 7 gg'],\n",
        "            color='darkolivegreen',\n",
        "            shade=True,\n",
        "            Label='Deserta')\n",
        "\n",
        "_ = ax.set(title=\"Distribution of 'Visite dopo 7 gg' by Esito\",\n",
        "           xlim = (0, 1000))\n",
        "ax.grid(True)\n",
        "plt.savefig(\"Distribution of 'Visite dopo 7 gg' by 'Esito'\")"
      ],
      "execution_count": 0,
      "outputs": [
        {
          "output_type": "display_data",
          "data": {
            "image/png": "[encoded data removed]",
            "text/plain": [
              "<Figure size 576x396 with 1 Axes>"
            ]
          },
          "metadata": {
            "tags": []
          }
        }
      ]
    },
    {
      "cell_type": "markdown",
      "metadata": {
        "id": "XqU5VWIp2M9n",
        "colab_type": "text"
      },
      "source": [
        "## Distribution of log('NTN') by 'Esito'"
      ]
    },
    {
      "cell_type": "code",
      "metadata": {
        "id": "cDBzNFKj1c4P",
        "colab_type": "code",
        "outputId": "358c7cc1-b102-4f03-b11c-3ae86046fc27",
        "colab": {
          "base_uri": "https://localhost:8080/",
          "height": 362
        }
      },
      "source": [
        "fig, ax = plt.subplots()\n",
        "ax = sns.kdeplot(df.loc[df['Esito']==1 , 'ntn'],\n",
        "            color='tomato',\n",
        "            shade=True,\n",
        "            Label='Aggiudicata')\n",
        "\n",
        "ax = sns.kdeplot(df.loc[df['Esito']==0 , 'ntn'],\n",
        "            color='darkolivegreen',\n",
        "            shade=True,\n",
        "            Label='Deserta')\n",
        "\n",
        "_ = ax.set(title=\"Distribution of log('NTN') by Esito\")\n",
        "ax.grid(True)\n",
        "plt.savefig(\"Distribution of log('NTN') by 'Esito'\")"
      ],
      "execution_count": 0,
      "outputs": [
        {
          "output_type": "display_data",
          "data": {
            "image/png": "[encoded data removed]",
            "text/plain": [
              "<Figure size 576x396 with 1 Axes>"
            ]
          },
          "metadata": {
            "tags": []
          }
        }
      ]
    },
    {
      "cell_type": "markdown",
      "metadata": {
        "id": "1RaeSdMh3LYQ",
        "colab_type": "text"
      },
      "source": [
        "## Distribution of 'Sconto' by 'Esito'"
      ]
    },
    {
      "cell_type": "code",
      "metadata": {
        "id": "hJZgW8816xy4",
        "colab_type": "code",
        "outputId": "42905652-3b22-4336-e9e1-6cb12c3f29f0",
        "colab": {
          "base_uri": "https://localhost:8080/",
          "height": 362
        }
      },
      "source": [
        "fig, ax = plt.subplots()\n",
        "ax = sns.kdeplot(df.loc[df['Esito']==0 , 'Sconto'],\n",
        "            color='r',\n",
        "            shade=True,\n",
        "            Label='Deserta')\n",
        "\n",
        "ax = sns.kdeplot(df.loc[df['Esito']==1 , 'Sconto'],\n",
        "            color='b',\n",
        "            shade=True,\n",
        "            Label='Aggiudicata')\n",
        "\n",
        "_ = ax.set(title=\"Distribution of 'Sconto' by 'Esito'\",\n",
        "           xlim = (-0.5, 1.5))\n",
        "ax.grid(True)\n",
        "plt.savefig(\"Distribution of 'Sconto' by 'Esito'\")"
      ],
      "execution_count": 0,
      "outputs": [
        {
          "output_type": "display_data",
          "data": {
            "image/png": "[encoded data removed]",
            "text/plain": [
              "<Figure size 576x396 with 1 Axes>"
            ]
          },
          "metadata": {
            "tags": []
          }
        }
      ]
    },
    {
      "cell_type": "markdown",
      "metadata": {
        "id": "CzrPXx_S3h5F",
        "colab_type": "text"
      },
      "source": [
        "## Distribution of log('Offerta Minima) by 'Esito'"
      ]
    },
    {
      "cell_type": "code",
      "metadata": {
        "id": "jzsjk7Ye3VfW",
        "colab_type": "code",
        "outputId": "55181c50-c288-498e-c422-3221cc229cd8",
        "colab": {
          "base_uri": "https://localhost:8080/",
          "height": 362
        }
      },
      "source": [
        "fig, ax = plt.subplots()\n",
        "ax = sns.kdeplot(df.loc[df['Esito']==0 , 'offerta_minima'],\n",
        "            color='gold',\n",
        "            shade=True,\n",
        "            Label='Deserta')\n",
        "\n",
        "ax = sns.kdeplot(df.loc[df['Esito']==1 , 'offerta_minima'],\n",
        "            color='brown',\n",
        "            shade=True,\n",
        "            Label='Aggiudicata')\n",
        "\n",
        "_ = ax.set(title=\"Distribution of log('Offerta minima') by 'Esito'\",\n",
        "           xlim = (7.5, 15))\n",
        "ax.grid(True)\n",
        "plt.savefig(\"Distribution of log('Offerta minima') by 'Esito'\")"
      ],
      "execution_count": 0,
      "outputs": [
        {
          "output_type": "display_data",
          "data": {
            "image/png": "[encoded data removed]",
            "text/plain": [
              "<Figure size 576x396 with 1 Axes>"
            ]
          },
          "metadata": {
            "tags": []
          }
        }
      ]
    },
    {
      "cell_type": "markdown",
      "metadata": {
        "id": "mGPIYInirRmW",
        "colab_type": "text"
      },
      "source": [
        "## Distribution of 'Valutazione' by 'Esito'"
      ]
    },
    {
      "cell_type": "code",
      "metadata": {
        "id": "vkOKCpT4rONV",
        "colab_type": "code",
        "outputId": "336a5c04-6f90-4e74-b667-5ec75ac0fbb0",
        "colab": {
          "base_uri": "https://localhost:8080/",
          "height": 362
        }
      },
      "source": [
        "fig, ax = plt.subplots()\n",
        "ax = sns.kdeplot(df.loc[df['Esito']==0, 'Valutazione'],\n",
        "            color='gold',\n",
        "            shade=True,\n",
        "            Label='Deserta')\n",
        "\n",
        "ax = sns.kdeplot(df.loc[df['Esito']==1, 'Valutazione'],\n",
        "            color='brown',\n",
        "            shade=True,\n",
        "            Label='Aggiudicata')\n",
        "\n",
        "_ = ax.set(title=\"Distribution of 'Valutazione' by 'Esito'\",\n",
        "           xlim = (0, 4e5))\n",
        "ax.grid(True)\n",
        "plt.savefig(\"Distribution of 'Valutazione' by 'Esito'\")"
      ],
      "execution_count": 0,
      "outputs": [
        {
          "output_type": "display_data",
          "data": {
            "image/png": "[encoded data removed]",
            "text/plain": [
              "<Figure size 576x396 with 1 Axes>"
            ]
          },
          "metadata": {
            "tags": []
          }
        }
      ]
    },
    {
      "cell_type": "markdown",
      "metadata": {
        "id": "W0GCOn78r0mk",
        "colab_type": "text"
      },
      "source": [
        "## Correlation Matrix"
      ]
    },
    {
      "cell_type": "code",
      "metadata": {
        "id": "GEt-ZIPdr2q2",
        "colab_type": "code",
        "outputId": "0ed37a7a-8db8-44eb-a8e4-194e4c0259b7",
        "colab": {
          "base_uri": "https://localhost:8080/",
          "height": 589
        }
      },
      "source": [
        "corr_matrix = df.corr()\n",
        "\n",
        "# Heatmap\n",
        "plt.figure(figsize = (10,10))\n",
        "cmap = sns.diverging_palette(220, 10, as_cmap = True)\n",
        "\n",
        "# deep dive into diverging_pattern\n",
        "sns.heatmap(corr_matrix, xticklabels=corr_matrix.columns.values,\n",
        "           yticklabels=corr_matrix.columns.values, cmap=cmap, vmax=1, center=0, square=True, linewidths=.5, cbar_kws={\"shrink\": .82})\n",
        "plt.title('Heatmap of Correlation Matrix')"
      ],
      "execution_count": 0,
      "outputs": [
        {
          "output_type": "execute_result",
          "data": {
            "text/plain": [
              "Text(0.5, 1, 'Heatmap of Correlation Matrix')"
            ]
          },
          "metadata": {
            "tags": []
          },
          "execution_count": 32
        },
        {
          "output_type": "display_data",
          "data": {
            "image/png": "[encoded data removed]",
            "text/plain": [
              "<Figure size 720x720 with 2 Axes>"
            ]
          },
          "metadata": {
            "tags": []
          }
        }
      ]
    },
    {
      "cell_type": "markdown",
      "metadata": {
        "id": "jEAJLUNizPce",
        "colab_type": "text"
      },
      "source": [
        "#Machine Learning"
      ]
    },
    {
      "cell_type": "code",
      "metadata": {
        "id": "nn98O-fC2H9Z",
        "colab_type": "code",
        "colab": {}
      },
      "source": [
        "df.drop(['Id Immobile','DATA PUBBLICAZIONE', 'Offerta minima', 'Visite dopo 7 gg', 'Valutazione', 'NTN RES'], axis=1, inplace=True)"
      ],
      "execution_count": 0,
      "outputs": []
    },
    {
      "cell_type": "code",
      "metadata": {
        "id": "HwUOLEoNjV4u",
        "colab_type": "code",
        "outputId": "eef8f429-4b15-423b-b811-0c4eb206e303",
        "colab": {
          "base_uri": "https://localhost:8080/",
          "height": 202
        }
      },
      "source": [
        "df.head()"
      ],
      "execution_count": 0,
      "outputs": [
        {
          "output_type": "execute_result",
          "data": {
            "text/html": [
              "<div>\n",
              "<style scoped>\n",
              "    .dataframe tbody tr th:only-of-type {\n",
              "        vertical-align: middle;\n",
              "    }\n",
              "\n",
              "    .dataframe tbody tr th {\n",
              "        vertical-align: top;\n",
              "    }\n",
              "\n",
              "    .dataframe thead th {\n",
              "        text-align: right;\n",
              "    }\n",
              "</style>\n",
              "<table border=\"1\" class=\"dataframe\">\n",
              "  <thead>\n",
              "    <tr style=\"text-align: right;\">\n",
              "      <th></th>\n",
              "      <th>Esito</th>\n",
              "      <th>Sconto</th>\n",
              "      <th>offerta_minima</th>\n",
              "      <th>views</th>\n",
              "      <th>ntn</th>\n",
              "    </tr>\n",
              "  </thead>\n",
              "  <tbody>\n",
              "    <tr>\n",
              "      <th>0</th>\n",
              "      <td>0</td>\n",
              "      <td>0.297500</td>\n",
              "      <td>11.054471</td>\n",
              "      <td>4.543295</td>\n",
              "      <td>4.306360</td>\n",
              "    </tr>\n",
              "    <tr>\n",
              "      <th>1</th>\n",
              "      <td>1</td>\n",
              "      <td>0.498077</td>\n",
              "      <td>11.085997</td>\n",
              "      <td>4.844187</td>\n",
              "      <td>5.332429</td>\n",
              "    </tr>\n",
              "    <tr>\n",
              "      <th>2</th>\n",
              "      <td>1</td>\n",
              "      <td>0.526316</td>\n",
              "      <td>9.798183</td>\n",
              "      <td>4.406719</td>\n",
              "      <td>5.928844</td>\n",
              "    </tr>\n",
              "    <tr>\n",
              "      <th>3</th>\n",
              "      <td>0</td>\n",
              "      <td>0.616949</td>\n",
              "      <td>10.025749</td>\n",
              "      <td>4.290459</td>\n",
              "      <td>6.094563</td>\n",
              "    </tr>\n",
              "    <tr>\n",
              "      <th>4</th>\n",
              "      <td>1</td>\n",
              "      <td>0.437500</td>\n",
              "      <td>10.426765</td>\n",
              "      <td>5.267858</td>\n",
              "      <td>6.929781</td>\n",
              "    </tr>\n",
              "  </tbody>\n",
              "</table>\n",
              "</div>"
            ],
            "text/plain": [
              "   Esito    Sconto  offerta_minima     views       ntn\n",
              "0      0  0.297500       11.054471  4.543295  4.306360\n",
              "1      1  0.498077       11.085997  4.844187  5.332429\n",
              "2      1  0.526316        9.798183  4.406719  5.928844\n",
              "3      0  0.616949       10.025749  4.290459  6.094563\n",
              "4      1  0.437500       10.426765  5.267858  6.929781"
            ]
          },
          "metadata": {
            "tags": []
          },
          "execution_count": 34
        }
      ]
    },
    {
      "cell_type": "code",
      "metadata": {
        "id": "TrgH7ddDoU-0",
        "colab_type": "code",
        "colab": {}
      },
      "source": [
        "def learning_curves(model, X_train, y_train):\n",
        "    x_train, x_val, ytrain, yval = train_test_split(X_train, y_train, test_size=0.35, random_state=0)\n",
        "\n",
        "    training_score = []\n",
        "    test_score = []\n",
        "    for i in range(10, len(X_train), 5):\n",
        "        model.fit(x_train[:i], ytrain[:i])\n",
        "        y_pred_train = model.predict(x_train[:i])\n",
        "        y_pred_val = model.predict(x_val)\n",
        "        training_score.append(accuracy_score(y_pred_train, ytrain[:i]))\n",
        "        test_score.append(accuracy_score(y_pred_val, yval))\n",
        "    sns.lineplot(x = [i for i in range(len(training_score))], y = training_score, label = 'TRAINING SET')\n",
        "    sns.lineplot(x = [i for i in range(len(test_score))], y = test_score, label = 'VALIDATION SET')\n",
        "    plt.legend()\n",
        "    plt.show()\n",
        "    print(f'The accuracy is {test_score[-1]}')\n",
        "\n",
        "X = df.drop(['Esito'], axis=1).values\n",
        "\n",
        "y = df['Esito'].values\n",
        "\n",
        "X_train, X_test, y_train, y_test = train_test_split(X, y, test_size=0.35, random_state=0)"
      ],
      "execution_count": 0,
      "outputs": []
    },
    {
      "cell_type": "markdown",
      "metadata": {
        "id": "d9AsjxGL4A2O",
        "colab_type": "text"
      },
      "source": [
        "## Logistic Regression Model"
      ]
    },
    {
      "cell_type": "markdown",
      "metadata": {
        "id": "tdC-msRa34wC",
        "colab_type": "text"
      },
      "source": [
        "###Hyperparameters Optimization"
      ]
    },
    {
      "cell_type": "code",
      "metadata": {
        "id": "ehnHV2MlwWgS",
        "colab_type": "code",
        "colab": {}
      },
      "source": [
        "hyper_lr = {'C' : [0.01, 0.03, 0.07, 0.1, 0.3, 0.5, 0.7, 1],\n",
        "            'solver': ['newton-cg', 'lbfgs', 'liblinear'],\n",
        "            'penalty': ['l1', 'l2']}"
      ],
      "execution_count": 0,
      "outputs": []
    },
    {
      "cell_type": "code",
      "metadata": {
        "id": "y-6qzYNPwnd5",
        "colab_type": "code",
        "outputId": "c6d521cf-1845-40cf-893e-6bf106702e88",
        "colab": {
          "base_uri": "https://localhost:8080/",
          "height": 35
        }
      },
      "source": [
        "gs = GridSearchCV(LogisticRegression(max_iter=10000), hyper_lr, cv = 4, scoring = 'accuracy')\n",
        "gs.fit(X_train, y_train)\n",
        "best_parameters_lr = gs.best_params_\n",
        "print(best_parameters_lr)"
      ],
      "execution_count": 0,
      "outputs": [
        {
          "output_type": "stream",
          "text": [
            "{'C': 1, 'penalty': 'l2', 'solver': 'newton-cg'}\n"
          ],
          "name": "stdout"
        }
      ]
    },
    {
      "cell_type": "markdown",
      "metadata": {
        "id": "rDArZ63s4R1t",
        "colab_type": "text"
      },
      "source": [
        "### Fit"
      ]
    },
    {
      "cell_type": "code",
      "metadata": {
        "id": "E8TljN-Abm1_",
        "colab_type": "code",
        "outputId": "c4e11015-ed72-4b82-c353-674c8026fdd9",
        "colab": {
          "base_uri": "https://localhost:8080/",
          "height": 243
        }
      },
      "source": [
        "model_lr= LogisticRegression(penalty=best_parameters_lr['penalty'], max_iter=10000, C=best_parameters_lr['C'], solver=best_parameters_lr['solver'])\n",
        "\n",
        "model_lr.fit(X_train, y_train)\n",
        "\n",
        "predictions_lr = model_lr.predict(X_test)\n",
        "\n",
        "print(\"Accuracy {0:.2f}%\".format(100*accuracy_score(predictions_lr, y_test)))\n",
        "print(confusion_matrix(predictions_lr, y_test))\n",
        "tp, fp, fn, tn = confusion_matrix(predictions_lr, y_test).ravel()\n",
        "print(f\"tp: {tp}, fp: {fp}, fn: {fn}, tn: {tn}\")\n",
        "print(classification_report(y_test, predictions_lr))"
      ],
      "execution_count": 0,
      "outputs": [
        {
          "output_type": "stream",
          "text": [
            "Accuracy 63.99%\n",
            "[[ 75  35]\n",
            " [ 95 156]]\n",
            "tp: 75, fp: 35, fn: 95, tn: 156\n",
            "              precision    recall  f1-score   support\n",
            "\n",
            "           0       0.68      0.44      0.54       170\n",
            "           1       0.62      0.82      0.71       191\n",
            "\n",
            "    accuracy                           0.64       361\n",
            "   macro avg       0.65      0.63      0.62       361\n",
            "weighted avg       0.65      0.64      0.63       361\n",
            "\n"
          ],
          "name": "stdout"
        }
      ]
    },
    {
      "cell_type": "markdown",
      "metadata": {
        "id": "SEc3_ayMjr-n",
        "colab_type": "text"
      },
      "source": [
        "### Learning curve"
      ]
    },
    {
      "cell_type": "code",
      "metadata": {
        "id": "xcnlWCaevPWO",
        "colab_type": "code",
        "outputId": "1251beae-2041-454e-e5df-afa398654d7e",
        "colab": {
          "base_uri": "https://localhost:8080/",
          "height": 365
        }
      },
      "source": [
        "learning_curves(model_lr, X_train, y_train)"
      ],
      "execution_count": 0,
      "outputs": [
        {
          "output_type": "display_data",
          "data": {
            "image/png": "[encoded data removed]",
            "text/plain": [
              "<Figure size 576x396 with 1 Axes>"
            ]
          },
          "metadata": {
            "tags": []
          }
        },
        {
          "output_type": "stream",
          "text": [
            "The accuracy is 0.7063829787234043\n"
          ],
          "name": "stdout"
        }
      ]
    },
    {
      "cell_type": "markdown",
      "metadata": {
        "id": "hNNJDcZm2Y8R",
        "colab_type": "text"
      },
      "source": [
        "## Random Forest"
      ]
    },
    {
      "cell_type": "markdown",
      "metadata": {
        "id": "gvxgVStR4zHb",
        "colab_type": "text"
      },
      "source": [
        "### Hyperparameters optimization"
      ]
    },
    {
      "cell_type": "code",
      "metadata": {
        "id": "VPgV09I92eGG",
        "colab_type": "code",
        "colab": {}
      },
      "source": [
        "hyper_rf = {'n_estimators': [100, 150, 200],\n",
        "            'min_samples_split': [20, 30],\n",
        "            'max_leaf_nodes': [100, 200]}"
      ],
      "execution_count": 0,
      "outputs": []
    },
    {
      "cell_type": "code",
      "metadata": {
        "id": "EbuWxVyT2tlO",
        "colab_type": "code",
        "outputId": "f5fb674a-ccbd-4fd5-e9b4-1098246f09a5",
        "colab": {
          "base_uri": "https://localhost:8080/",
          "height": 35
        }
      },
      "source": [
        "gs = GridSearchCV(RandomForestClassifier(), hyper_rf, iid=False, cv=4,\n",
        "                  scoring='accuracy', return_train_score=False)\n",
        "gs.fit(X_train, y_train)\n",
        "best_parameters_rf = gs.best_params_\n",
        "print(best_parameters_rf)"
      ],
      "execution_count": 0,
      "outputs": [
        {
          "output_type": "stream",
          "text": [
            "{'max_leaf_nodes': 100, 'min_samples_split': 20, 'n_estimators': 150}\n"
          ],
          "name": "stdout"
        }
      ]
    },
    {
      "cell_type": "markdown",
      "metadata": {
        "id": "WUnV7QQg5DEq",
        "colab_type": "text"
      },
      "source": [
        "###Fit"
      ]
    },
    {
      "cell_type": "code",
      "metadata": {
        "id": "d2LWU1cc3ccR",
        "colab_type": "code",
        "outputId": "5a2b5a03-e31c-45a7-8f78-36428b56c51b",
        "colab": {
          "base_uri": "https://localhost:8080/",
          "height": 243
        }
      },
      "source": [
        "model_rf = RandomForestClassifier(n_estimators= best_parameters_rf['n_estimators'],\n",
        "                                  min_samples_split=best_parameters_rf['min_samples_split'],\n",
        "                                  max_leaf_nodes =best_parameters_rf['max_leaf_nodes'])\n",
        "model_rf.fit(X_train, y_train)\n",
        "\n",
        "predictions_rf = model_rf.predict(X_test)\n",
        "\n",
        "print(\"Accuracy {0:.2f}%\".format(100*accuracy_score(predictions_rf, y_test)))\n",
        "print(confusion_matrix(predictions_rf, y_test))\n",
        "tp, fp, fn, tn = confusion_matrix(predictions_rf, y_test).ravel()\n",
        "print(f\"tp: {tp}, fp: {fp}, fn: {fn}, tn: {tn}\")\n",
        "print(classification_report(y_test, predictions_rf))"
      ],
      "execution_count": 0,
      "outputs": [
        {
          "output_type": "stream",
          "text": [
            "Accuracy 69.25%\n",
            "[[100  41]\n",
            " [ 70 150]]\n",
            "tp: 100, fp: 41, fn: 70, tn: 150\n",
            "              precision    recall  f1-score   support\n",
            "\n",
            "           0       0.71      0.59      0.64       170\n",
            "           1       0.68      0.79      0.73       191\n",
            "\n",
            "    accuracy                           0.69       361\n",
            "   macro avg       0.70      0.69      0.69       361\n",
            "weighted avg       0.69      0.69      0.69       361\n",
            "\n"
          ],
          "name": "stdout"
        }
      ]
    },
    {
      "cell_type": "code",
      "metadata": {
        "id": "5n5JXYPtoUTK",
        "colab_type": "code",
        "outputId": "ab0b2acf-a87a-40e1-f2ea-46451ef08c79",
        "colab": {
          "base_uri": "https://localhost:8080/",
          "height": 104
        }
      },
      "source": [
        "print(pd.DataFrame({'Variables': df.drop(['Esito'],axis=1).columns,\n",
        "                    'Feature Importance': model_rf.feature_importances_.tolist()}).sort_values('Feature Importance', ascending=False))"
      ],
      "execution_count": 0,
      "outputs": [
        {
          "output_type": "stream",
          "text": [
            "        Variables  Feature Importance\n",
            "2           views            0.384272\n",
            "0          Sconto            0.236227\n",
            "3             ntn            0.207379\n",
            "1  offerta_minima            0.172122\n"
          ],
          "name": "stdout"
        }
      ]
    },
    {
      "cell_type": "markdown",
      "metadata": {
        "id": "imewy5b64mCe",
        "colab_type": "text"
      },
      "source": [
        "### Learning curve"
      ]
    },
    {
      "cell_type": "code",
      "metadata": {
        "id": "f6Gz9DnW4j5W",
        "colab_type": "code",
        "outputId": "410a6c62-e978-4e01-a9dd-b537b72ad06f",
        "colab": {
          "base_uri": "https://localhost:8080/",
          "height": 365
        }
      },
      "source": [
        "learning_curves(model_rf, X_train, y_train)"
      ],
      "execution_count": 0,
      "outputs": [
        {
          "output_type": "display_data",
          "data": {
            "image/png": "[encoded data removed]",
            "text/plain": [
              "<Figure size 576x396 with 1 Axes>"
            ]
          },
          "metadata": {
            "tags": []
          }
        },
        {
          "output_type": "stream",
          "text": [
            "The accuracy is 0.723404255319149\n"
          ],
          "name": "stdout"
        }
      ]
    },
    {
      "cell_type": "markdown",
      "metadata": {
        "colab_type": "text",
        "id": "6prsybcUkrq9"
      },
      "source": [
        "## Gaussian Naive Bayes"
      ]
    },
    {
      "cell_type": "markdown",
      "metadata": {
        "id": "2HAe5Fck9mbN",
        "colab_type": "text"
      },
      "source": [
        "### Fit"
      ]
    },
    {
      "cell_type": "code",
      "metadata": {
        "id": "j000AKhL9ked",
        "colab_type": "code",
        "outputId": "7626e206-5454-43f7-8c6a-febb53a02bfa",
        "colab": {
          "base_uri": "https://localhost:8080/",
          "height": 243
        }
      },
      "source": [
        "model_bn = GaussianNB()\n",
        "model_bn.fit(X_train, y_train)\n",
        "\n",
        "predictions_bn = model_bn.predict(X_test)\n",
        "\n",
        "print(\"Accuracy {0:.2f}%\".format(100*accuracy_score(predictions_bn, y_test)))\n",
        "print(confusion_matrix(predictions_bn, y_test))\n",
        "tp, fp, fn, tn = confusion_matrix(predictions_bn, y_test).ravel()\n",
        "print(f\"tp: {tp}, fp: {fp}, fn: {fn}, tn: {tn}\")\n",
        "print(classification_report(y_test, predictions_bn))"
      ],
      "execution_count": 0,
      "outputs": [
        {
          "output_type": "stream",
          "text": [
            "Accuracy 64.54%\n",
            "[[ 93  51]\n",
            " [ 77 140]]\n",
            "tp: 93, fp: 51, fn: 77, tn: 140\n",
            "              precision    recall  f1-score   support\n",
            "\n",
            "           0       0.65      0.55      0.59       170\n",
            "           1       0.65      0.73      0.69       191\n",
            "\n",
            "    accuracy                           0.65       361\n",
            "   macro avg       0.65      0.64      0.64       361\n",
            "weighted avg       0.65      0.65      0.64       361\n",
            "\n"
          ],
          "name": "stdout"
        }
      ]
    },
    {
      "cell_type": "markdown",
      "metadata": {
        "id": "NqErj0ZQ49HZ",
        "colab_type": "text"
      },
      "source": [
        "### Learning curve\n"
      ]
    },
    {
      "cell_type": "code",
      "metadata": {
        "id": "YD9nQwSAluCl",
        "colab_type": "code",
        "outputId": "66ab1a2c-ee68-4759-d761-abdc41c4e886",
        "colab": {
          "base_uri": "https://localhost:8080/",
          "height": 365
        }
      },
      "source": [
        "learning_curves(model_bn, X_train, y_train)"
      ],
      "execution_count": 0,
      "outputs": [
        {
          "output_type": "display_data",
          "data": {
            "image/png": "[encoded data removed]",
            "text/plain": [
              "<Figure size 576x396 with 1 Axes>"
            ]
          },
          "metadata": {
            "tags": []
          }
        },
        {
          "output_type": "stream",
          "text": [
            "The accuracy is 0.6978723404255319\n"
          ],
          "name": "stdout"
        }
      ]
    },
    {
      "cell_type": "markdown",
      "metadata": {
        "colab_type": "text",
        "id": "TAuZofMmmdMc"
      },
      "source": [
        "## KNN"
      ]
    },
    {
      "cell_type": "markdown",
      "metadata": {
        "colab_type": "text",
        "id": "PF3K-5CMmdMl"
      },
      "source": [
        "### Hyperparameters optimization"
      ]
    },
    {
      "cell_type": "code",
      "metadata": {
        "colab_type": "code",
        "id": "CxgfenJ_mdMn",
        "colab": {}
      },
      "source": [
        "hyper_knn = {'n_neighbors': [2, 3, 4, 5, 6],\n",
        "             'algorithm': ['auto', 'ball_tree', 'kd_tree', 'brute']}"
      ],
      "execution_count": 0,
      "outputs": []
    },
    {
      "cell_type": "code",
      "metadata": {
        "colab_type": "code",
        "id": "So1TDXDmmdMy",
        "outputId": "6f55a83d-3d1f-43ba-afe2-c932ed1f917c",
        "colab": {
          "base_uri": "https://localhost:8080/",
          "height": 35
        }
      },
      "source": [
        "gs = GridSearchCV(KNeighborsClassifier(), hyper_knn, cv=4, scoring='accuracy')\n",
        "gs.fit(X_train, y_train)\n",
        "best_parameters_knn = gs.best_params_\n",
        "print(best_parameters_knn)"
      ],
      "execution_count": 0,
      "outputs": [
        {
          "output_type": "stream",
          "text": [
            "{'algorithm': 'auto', 'n_neighbors': 6}\n"
          ],
          "name": "stdout"
        }
      ]
    },
    {
      "cell_type": "markdown",
      "metadata": {
        "colab_type": "text",
        "id": "geVaASDQmdM7"
      },
      "source": [
        "###Fit"
      ]
    },
    {
      "cell_type": "code",
      "metadata": {
        "colab_type": "code",
        "id": "BU0MkaIPmdNA",
        "outputId": "ce99fcc2-66df-4393-a75b-0d8ea44e9fa6",
        "colab": {
          "base_uri": "https://localhost:8080/",
          "height": 243
        }
      },
      "source": [
        "model_knn = KNeighborsClassifier(n_neighbors = best_parameters_knn['n_neighbors'],\n",
        "                                 algorithm = best_parameters_knn['algorithm'])\n",
        "model_knn.fit(X_train, y_train)\n",
        "\n",
        "predictions_knn = model_knn.predict(X_test)\n",
        "\n",
        "print(\"Accuracy {0:.2f}%\".format(100*accuracy_score(predictions_knn, y_test)))\n",
        "print(confusion_matrix(predictions_knn, y_test))\n",
        "tp, fp, fn, tn = confusion_matrix(predictions_knn, y_test).ravel()\n",
        "print(f\"tp: {tp}, fp: {fp}, fn: {fn}, tn: {tn}\")\n",
        "print(classification_report(y_test, predictions_knn))"
      ],
      "execution_count": 0,
      "outputs": [
        {
          "output_type": "stream",
          "text": [
            "Accuracy 62.05%\n",
            "[[101  68]\n",
            " [ 69 123]]\n",
            "tp: 101, fp: 68, fn: 69, tn: 123\n",
            "              precision    recall  f1-score   support\n",
            "\n",
            "           0       0.60      0.59      0.60       170\n",
            "           1       0.64      0.64      0.64       191\n",
            "\n",
            "    accuracy                           0.62       361\n",
            "   macro avg       0.62      0.62      0.62       361\n",
            "weighted avg       0.62      0.62      0.62       361\n",
            "\n"
          ],
          "name": "stdout"
        }
      ]
    },
    {
      "cell_type": "markdown",
      "metadata": {
        "id": "XDR2dEOz5JqF",
        "colab_type": "text"
      },
      "source": [
        "### Learning curve"
      ]
    },
    {
      "cell_type": "code",
      "metadata": {
        "id": "z1wHVRpd5Ivu",
        "colab_type": "code",
        "outputId": "8d2bd6ef-46c2-4ff5-cd7f-1d0389e4cf54",
        "colab": {
          "base_uri": "https://localhost:8080/",
          "height": 365
        }
      },
      "source": [
        "learning_curves(model_knn, X_train, y_train)"
      ],
      "execution_count": 0,
      "outputs": [
        {
          "output_type": "display_data",
          "data": {
            "image/png": "[encoded data removed]",
            "text/plain": [
              "<Figure size 576x396 with 1 Axes>"
            ]
          },
          "metadata": {
            "tags": []
          }
        },
        {
          "output_type": "stream",
          "text": [
            "The accuracy is 0.6170212765957447\n"
          ],
          "name": "stdout"
        }
      ]
    },
    {
      "cell_type": "markdown",
      "metadata": {
        "colab_type": "text",
        "id": "DI2q0AwRmOVA"
      },
      "source": [
        "##Model Comparison"
      ]
    },
    {
      "cell_type": "code",
      "metadata": {
        "colab_type": "code",
        "id": "vk0beAN8mMIl",
        "outputId": "705faf2e-410a-4371-a110-5bb8049c536e",
        "colab": {
          "base_uri": "https://localhost:8080/",
          "height": 379
        }
      },
      "source": [
        "fig, ax = plt.subplots()\n",
        "\n",
        "plot_roc_curve(model_rf, X_test, y_test, color = 'r', ax = ax)\n",
        "plot_roc_curve(model_lr, X_test, y_test, color = 'b', ax = ax)\n",
        "plot_roc_curve(model_bn, X_test, y_test, color = 'gold', ax = ax)\n",
        "plot_roc_curve(model_knn, X_test, y_test, color = 'green', ax = ax)"
      ],
      "execution_count": 0,
      "outputs": [
        {
          "output_type": "execute_result",
          "data": {
            "text/plain": [
              "<sklearn.metrics._plot.roc_curve.RocCurveDisplay at 0x7faeb01afba8>"
            ]
          },
          "metadata": {
            "tags": []
          },
          "execution_count": 51
        },
        {
          "output_type": "display_data",
          "data": {
            "image/png": "[encoded data removed]",
            "text/plain": [
              "<Figure size 576x396 with 1 Axes>"
            ]
          },
          "metadata": {
            "tags": []
          }
        }
      ]
    },
    {
      "cell_type": "markdown",
      "metadata": {
        "id": "EeIw7dkun_BS",
        "colab_type": "text"
      },
      "source": [
        "## Ensemble"
      ]
    },
    {
      "cell_type": "markdown",
      "metadata": {
        "id": "LT-UeWh75g8F",
        "colab_type": "text"
      },
      "source": [
        "### Fit"
      ]
    },
    {
      "cell_type": "code",
      "metadata": {
        "id": "2ePWXcr4pnMn",
        "colab_type": "code",
        "outputId": "d8ffa99e-c215-4083-f59b-dcc0a2a3aa23",
        "colab": {
          "base_uri": "https://localhost:8080/",
          "height": 243
        }
      },
      "source": [
        "ensemble = StackingClassifier(estimators = [('Random Forest', model_rf),\n",
        "                                            ('Logistic Regression', model_lr),\n",
        "                                            ('Naive Bayes', model_bn),\n",
        "                                            ('KNN', model_knn)],\n",
        "                              cv = 3,\n",
        "                              final_estimator = model_lr)\n",
        "ensemble.fit(X_train, y_train)\n",
        "\n",
        "predictions_ensemble = ensemble.predict(X_test)\n",
        "\n",
        "print(\"Accuracy {0:.2f}%\".format(100*accuracy_score(predictions_ensemble, y_test)))\n",
        "print(confusion_matrix(predictions_ensemble, y_test))\n",
        "tp, fp, fn, tn = confusion_matrix(predictions_ensemble, y_test).ravel()\n",
        "print(f\"tp: {tp}, fp: {fp}, fn: {fn}, tn: {tn}\")\n",
        "print(classification_report(y_test, predictions_ensemble))\n"
      ],
      "execution_count": 0,
      "outputs": [
        {
          "output_type": "stream",
          "text": [
            "Accuracy 68.98%\n",
            "[[ 94  36]\n",
            " [ 76 155]]\n",
            "tp: 94, fp: 36, fn: 76, tn: 155\n",
            "              precision    recall  f1-score   support\n",
            "\n",
            "           0       0.72      0.55      0.63       170\n",
            "           1       0.67      0.81      0.73       191\n",
            "\n",
            "    accuracy                           0.69       361\n",
            "   macro avg       0.70      0.68      0.68       361\n",
            "weighted avg       0.70      0.69      0.68       361\n",
            "\n"
          ],
          "name": "stdout"
        }
      ]
    },
    {
      "cell_type": "markdown",
      "metadata": {
        "id": "ju16IwR45jgH",
        "colab_type": "text"
      },
      "source": [
        "### Learning curve"
      ]
    },
    {
      "cell_type": "code",
      "metadata": {
        "id": "fYU19H1iA805",
        "colab_type": "code",
        "outputId": "5507a798-633e-4b02-8394-763abdd09d48",
        "colab": {
          "base_uri": "https://localhost:8080/",
          "height": 365
        }
      },
      "source": [
        "learning_curves(ensemble, X_train, y_train)"
      ],
      "execution_count": 0,
      "outputs": [
        {
          "output_type": "display_data",
          "data": {
            "image/png": "[encoded data removed]",
            "text/plain": [
              "<Figure size 576x396 with 1 Axes>"
            ]
          },
          "metadata": {
            "tags": []
          }
        },
        {
          "output_type": "stream",
          "text": [
            "The accuracy is 0.7106382978723405\n"
          ],
          "name": "stdout"
        }
      ]
    },
    {
      "cell_type": "markdown",
      "metadata": {
        "id": "OBwH4xJKKFxr",
        "colab_type": "text"
      },
      "source": [
        "###ROC Curve"
      ]
    },
    {
      "cell_type": "code",
      "metadata": {
        "id": "E65TOwRCyDug",
        "colab_type": "code",
        "colab": {}
      },
      "source": [
        "test = y_test.copy()\n",
        "test = test.astype(int)\n",
        "\n",
        "thresholds = [i for i in np.arange(0.5, 0.7, 0.01)]\n",
        "tres = []\n",
        "acc = []\n",
        "pre = []\n",
        "\n",
        "for t in thresholds:\n",
        "    predicted = np.array(ensemble.predict_proba(np.array(X_test).reshape(-1, 4))[:, 0])\n",
        "    predicted[predicted > t] = 1\n",
        "    predicted[~(predicted > t)] = 0\n",
        "    tres.append(t)\n",
        "    acc.append(accuracy_score(test, predicted.astype(int)))\n",
        "    pre.append(np.sum(test * predicted.astype(int)) / np.sum(predicted))\n",
        "\n",
        "final_matrix = pd.DataFrame({'Threshold': tres,\n",
        "                             'Accuracy': acc,\n",
        "                             'Precision': pre})"
      ],
      "execution_count": 0,
      "outputs": []
    },
    {
      "cell_type": "code",
      "metadata": {
        "id": "qRhgsHTEDf06",
        "colab_type": "code",
        "outputId": "fede0907-abf1-4f9b-e4e7-d173fea847bb",
        "colab": {
          "base_uri": "https://localhost:8080/",
          "height": 662
        }
      },
      "source": [
        "final_matrix.head(50)"
      ],
      "execution_count": 0,
      "outputs": [
        {
          "output_type": "execute_result",
          "data": {
            "text/html": [
              "<div>\n",
              "<style scoped>\n",
              "    .dataframe tbody tr th:only-of-type {\n",
              "        vertical-align: middle;\n",
              "    }\n",
              "\n",
              "    .dataframe tbody tr th {\n",
              "        vertical-align: top;\n",
              "    }\n",
              "\n",
              "    .dataframe thead th {\n",
              "        text-align: right;\n",
              "    }\n",
              "</style>\n",
              "<table border=\"1\" class=\"dataframe\">\n",
              "  <thead>\n",
              "    <tr style=\"text-align: right;\">\n",
              "      <th></th>\n",
              "      <th>Threshold</th>\n",
              "      <th>Accuracy</th>\n",
              "      <th>Precision</th>\n",
              "    </tr>\n",
              "  </thead>\n",
              "  <tbody>\n",
              "    <tr>\n",
              "      <th>0</th>\n",
              "      <td>0.50</td>\n",
              "      <td>0.354571</td>\n",
              "      <td>0.338462</td>\n",
              "    </tr>\n",
              "    <tr>\n",
              "      <th>1</th>\n",
              "      <td>0.51</td>\n",
              "      <td>0.357341</td>\n",
              "      <td>0.330579</td>\n",
              "    </tr>\n",
              "    <tr>\n",
              "      <th>2</th>\n",
              "      <td>0.52</td>\n",
              "      <td>0.354571</td>\n",
              "      <td>0.322034</td>\n",
              "    </tr>\n",
              "    <tr>\n",
              "      <th>3</th>\n",
              "      <td>0.53</td>\n",
              "      <td>0.362881</td>\n",
              "      <td>0.330435</td>\n",
              "    </tr>\n",
              "    <tr>\n",
              "      <th>4</th>\n",
              "      <td>0.54</td>\n",
              "      <td>0.373961</td>\n",
              "      <td>0.339450</td>\n",
              "    </tr>\n",
              "    <tr>\n",
              "      <th>5</th>\n",
              "      <td>0.55</td>\n",
              "      <td>0.365651</td>\n",
              "      <td>0.310000</td>\n",
              "    </tr>\n",
              "    <tr>\n",
              "      <th>6</th>\n",
              "      <td>0.56</td>\n",
              "      <td>0.365651</td>\n",
              "      <td>0.306122</td>\n",
              "    </tr>\n",
              "    <tr>\n",
              "      <th>7</th>\n",
              "      <td>0.57</td>\n",
              "      <td>0.354571</td>\n",
              "      <td>0.271739</td>\n",
              "    </tr>\n",
              "    <tr>\n",
              "      <th>8</th>\n",
              "      <td>0.58</td>\n",
              "      <td>0.354571</td>\n",
              "      <td>0.266667</td>\n",
              "    </tr>\n",
              "    <tr>\n",
              "      <th>9</th>\n",
              "      <td>0.59</td>\n",
              "      <td>0.368421</td>\n",
              "      <td>0.282353</td>\n",
              "    </tr>\n",
              "    <tr>\n",
              "      <th>10</th>\n",
              "      <td>0.60</td>\n",
              "      <td>0.382271</td>\n",
              "      <td>0.283784</td>\n",
              "    </tr>\n",
              "    <tr>\n",
              "      <th>11</th>\n",
              "      <td>0.61</td>\n",
              "      <td>0.385042</td>\n",
              "      <td>0.275362</td>\n",
              "    </tr>\n",
              "    <tr>\n",
              "      <th>12</th>\n",
              "      <td>0.62</td>\n",
              "      <td>0.390582</td>\n",
              "      <td>0.269841</td>\n",
              "    </tr>\n",
              "    <tr>\n",
              "      <th>13</th>\n",
              "      <td>0.63</td>\n",
              "      <td>0.382271</td>\n",
              "      <td>0.233333</td>\n",
              "    </tr>\n",
              "    <tr>\n",
              "      <th>14</th>\n",
              "      <td>0.64</td>\n",
              "      <td>0.401662</td>\n",
              "      <td>0.264151</td>\n",
              "    </tr>\n",
              "    <tr>\n",
              "      <th>15</th>\n",
              "      <td>0.65</td>\n",
              "      <td>0.393352</td>\n",
              "      <td>0.195652</td>\n",
              "    </tr>\n",
              "    <tr>\n",
              "      <th>16</th>\n",
              "      <td>0.66</td>\n",
              "      <td>0.398892</td>\n",
              "      <td>0.204545</td>\n",
              "    </tr>\n",
              "    <tr>\n",
              "      <th>17</th>\n",
              "      <td>0.67</td>\n",
              "      <td>0.396122</td>\n",
              "      <td>0.170732</td>\n",
              "    </tr>\n",
              "    <tr>\n",
              "      <th>18</th>\n",
              "      <td>0.68</td>\n",
              "      <td>0.398892</td>\n",
              "      <td>0.138889</td>\n",
              "    </tr>\n",
              "    <tr>\n",
              "      <th>19</th>\n",
              "      <td>0.69</td>\n",
              "      <td>0.396122</td>\n",
              "      <td>0.114286</td>\n",
              "    </tr>\n",
              "  </tbody>\n",
              "</table>\n",
              "</div>"
            ],
            "text/plain": [
              "    Threshold  Accuracy  Precision\n",
              "0        0.50  0.354571   0.338462\n",
              "1        0.51  0.357341   0.330579\n",
              "2        0.52  0.354571   0.322034\n",
              "3        0.53  0.362881   0.330435\n",
              "4        0.54  0.373961   0.339450\n",
              "5        0.55  0.365651   0.310000\n",
              "6        0.56  0.365651   0.306122\n",
              "7        0.57  0.354571   0.271739\n",
              "8        0.58  0.354571   0.266667\n",
              "9        0.59  0.368421   0.282353\n",
              "10       0.60  0.382271   0.283784\n",
              "11       0.61  0.385042   0.275362\n",
              "12       0.62  0.390582   0.269841\n",
              "13       0.63  0.382271   0.233333\n",
              "14       0.64  0.401662   0.264151\n",
              "15       0.65  0.393352   0.195652\n",
              "16       0.66  0.398892   0.204545\n",
              "17       0.67  0.396122   0.170732\n",
              "18       0.68  0.398892   0.138889\n",
              "19       0.69  0.396122   0.114286"
            ]
          },
          "metadata": {
            "tags": []
          },
          "execution_count": 55
        }
      ]
    },
    {
      "cell_type": "code",
      "metadata": {
        "id": "I7QMPl43KFOm",
        "colab_type": "code",
        "outputId": "55f70a7b-05d8-46c5-9044-0725a4699a88",
        "colab": {
          "base_uri": "https://localhost:8080/",
          "height": 379
        }
      },
      "source": [
        "plot_roc_curve(ensemble, X_train, y_train, color = 'r')"
      ],
      "execution_count": 0,
      "outputs": [
        {
          "output_type": "execute_result",
          "data": {
            "text/plain": [
              "<sklearn.metrics._plot.roc_curve.RocCurveDisplay at 0x7faeada57400>"
            ]
          },
          "metadata": {
            "tags": []
          },
          "execution_count": 56
        },
        {
          "output_type": "display_data",
          "data": {
            "image/png": "[encoded data removed]",
            "text/plain": [
              "<Figure size 576x396 with 1 Axes>"
            ]
          },
          "metadata": {
            "tags": []
          }
        }
      ]
    },
    {
      "cell_type": "markdown",
      "metadata": {
        "id": "cXw7W4DjA_wy",
        "colab_type": "text"
      },
      "source": [
        "#Save the model for later deploy with Python"
      ]
    },
    {
      "cell_type": "code",
      "metadata": {
        "id": "glxp2xleQv9f",
        "colab_type": "code",
        "colab": {}
      },
      "source": [
        "import pickle\n",
        "# save the model to disk\n",
        "filename = 'Model_Ex_Post.sav'\n",
        "pickle.dump(ensemble, open(filename, 'wb')) \n",
        "\n",
        "# load the model from disk\n",
        "loaded_model = pickle.load(open(filename, 'rb'))"
      ],
      "execution_count": 0,
      "outputs": []
    },
    {
      "cell_type": "markdown",
      "metadata": {
        "id": "lvhjrdIrB0Ad",
        "colab_type": "text"
      },
      "source": [
        "#Example of forecast with the model"
      ]
    },
    {
      "cell_type": "code",
      "metadata": {
        "id": "o0KcGjnoc4Nw",
        "colab_type": "code",
        "outputId": "0c32cd37-2e03-41a5-c469-3ae8eb6397ed",
        "colab": {
          "base_uri": "https://localhost:8080/",
          "height": 69
        }
      },
      "source": [
        "# Let's consider an auction with the following features:\n",
        "sconto = 0.64642099\n",
        "offerta_minima = 27000\n",
        "visite_dopo_7_gg = 132\n",
        "ntn = 171\n",
        "esito_prob = loaded_model.predict_proba(np.array([sconto,\n",
        "                                                  np.log(offerta_minima),\n",
        "                                                  np.log(visite_dopo_7_gg),\n",
        "                                                  np.log(ntn)]).reshape(-1, 4))\n",
        "print(\"Probability of the Auction to go:\")\n",
        "print(\"Deserta = {0:.2f}%\".format(100*esito_prob[0][0]))\n",
        "print(\"Aggiudicata = {0:.2f}%\".format(100*esito_prob[0][1]))"
      ],
      "execution_count": 0,
      "outputs": [
        {
          "output_type": "stream",
          "text": [
            "Probability of the Auction to go:\n",
            "Deserta = 23.87%\n",
            "Aggiudicata = 76.13%\n"
          ],
          "name": "stdout"
        }
      ]
    }
  ]
}